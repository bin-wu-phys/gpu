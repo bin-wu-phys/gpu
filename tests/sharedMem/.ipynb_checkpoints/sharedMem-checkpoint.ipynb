{
 "cells": [
  {
   "cell_type": "code",
   "execution_count": 2,
   "id": "246b5732",
   "metadata": {},
   "outputs": [
    {
     "name": "stdout",
     "output_type": "stream",
     "text": [
      "32768\n",
      "CPU computation time: 9.400000e-05 s.\n",
      "\n",
      "GPU with globalMem computation time with (32, 1024): 1.500000e-05 s.\n",
      "\n"
     ]
    }
   ],
   "source": [
    "!./sharedMem"
   ]
  },
  {
   "cell_type": "code",
   "execution_count": 3,
   "id": "09f7205b",
   "metadata": {},
   "outputs": [
    {
     "name": "stdout",
     "output_type": "stream",
     "text": [
      "CPU computation time: 1.508000e-03 s.\n",
      "\n",
      "GPU with globalMem computation time with (512, 1024): 1.900000e-05 s.\n",
      "\n"
     ]
    }
   ],
   "source": [
    "!./sharedMem"
   ]
  },
  {
   "cell_type": "code",
   "execution_count": null,
   "id": "0eda9eff",
   "metadata": {},
   "outputs": [],
   "source": []
  }
 ],
 "metadata": {
  "kernelspec": {
   "display_name": "Python 3",
   "language": "python",
   "name": "python3"
  },
  "language_info": {
   "codemirror_mode": {
    "name": "ipython",
    "version": 3
   },
   "file_extension": ".py",
   "mimetype": "text/x-python",
   "name": "python",
   "nbconvert_exporter": "python",
   "pygments_lexer": "ipython3",
   "version": "3.9.1"
  }
 },
 "nbformat": 4,
 "nbformat_minor": 5
}

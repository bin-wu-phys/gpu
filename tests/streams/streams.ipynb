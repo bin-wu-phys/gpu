{
 "cells": [
  {
   "cell_type": "markdown",
   "id": "banner-compact",
   "metadata": {},
   "source": [
    "# Without synchronize"
   ]
  },
  {
   "cell_type": "code",
   "execution_count": 1,
   "id": "lyric-toner",
   "metadata": {},
   "outputs": [
    {
     "name": "stdout",
     "output_type": "stream",
     "text": [
      "Existing the host!\r\n"
     ]
    }
   ],
   "source": [
    "!./main"
   ]
  },
  {
   "cell_type": "markdown",
   "id": "retained-cleaner",
   "metadata": {},
   "source": [
    "That is, the host exists, killing the GUP runs if the streams are not synchronized???"
   ]
  },
  {
   "cell_type": "markdown",
   "id": "signal-breeding",
   "metadata": {},
   "source": [
    "# With synchronize: computation time"
   ]
  },
  {
   "cell_type": "code",
   "execution_count": 4,
   "id": "incorrect-proportion",
   "metadata": {},
   "outputs": [
    {
     "name": "stdout",
     "output_type": "stream",
     "text": [
      "Kernel 1 on stream 0.\r\n",
      "Kernel 1 on stream 1.\r\n",
      "Kernel 1 on stream 2.\r\n",
      "Kernel 1 on stream 3.\r\n",
      "Kernel 2 on stream 0.\r\n",
      "Kernel 2 on stream 1.\r\n",
      "Kernel 2 on stream 2.\r\n",
      "Kernel 2 on stream 3.\r\n",
      "Kernel 3 on stream 0.\r\n",
      "Kernel 3 on stream 1.\r\n",
      "Kernel 3 on stream 2.\r\n",
      "Kernel 3 on stream 3.\r\n",
      "Kernel 4 on stream 0.\r\n",
      "Kernel 4 on stream 1.\r\n",
      "Kernel 4 on stream 2.\r\n",
      "Kernel 4 on stream 3.\r\n",
      "Computation time by using events: 0.20768 ms.\r\n",
      "Kernel 1 on stream 0.\r\n",
      "Kernel 1 on stream 1.\r\n",
      "Kernel 1 on stream 2.\r\n",
      "Kernel 1 on stream 3.\r\n",
      "Kernel 2 on stream 0.\r\n",
      "Kernel 2 on stream 1.\r\n",
      "Kernel 2 on stream 2.\r\n",
      "Kernel 2 on stream 3.\r\n",
      "Kernel 3 on stream 0.\r\n",
      "Kernel 3 on stream 1.\r\n",
      "Kernel 3 on stream 2.\r\n",
      "Kernel 3 on stream 3.\r\n",
      "Kernel 4 on stream 0.\r\n",
      "Kernel 4 on stream 1.\r\n",
      "Kernel 4 on stream 2.\r\n",
      "Kernel 4 on stream 3.\r\n",
      "Computation time by cpu time: 0.21 ms.\r\n",
      "Existing the host!\r\n"
     ]
    }
   ],
   "source": [
    "!./main"
   ]
  },
  {
   "cell_type": "code",
   "execution_count": null,
   "id": "floating-parameter",
   "metadata": {},
   "outputs": [],
   "source": []
  }
 ],
 "metadata": {
  "kernelspec": {
   "display_name": "Python 3",
   "language": "python",
   "name": "python3"
  },
  "language_info": {
   "codemirror_mode": {
    "name": "ipython",
    "version": 3
   },
   "file_extension": ".py",
   "mimetype": "text/x-python",
   "name": "python",
   "nbconvert_exporter": "python",
   "pygments_lexer": "ipython3",
   "version": "3.9.2"
  }
 },
 "nbformat": 4,
 "nbformat_minor": 5
}
